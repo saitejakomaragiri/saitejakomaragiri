{
  "nbformat": 4,
  "nbformat_minor": 0,
  "metadata": {
    "colab": {
      "name": "project2_digital marketing_trustpilot_sentiment_analysis.ipynb",
      "provenance": [],
      "collapsed_sections": [],
      "authorship_tag": "ABX9TyOu33wQJ4UeXjEjC/TNuO6g",
      "include_colab_link": true
    },
    "kernelspec": {
      "name": "python3",
      "display_name": "Python 3"
    },
    "language_info": {
      "name": "python"
    }
  },
  "cells": [
    {
      "cell_type": "markdown",
      "metadata": {
        "id": "view-in-github",
        "colab_type": "text"
      },
      "source": [
        "<a href=\"https://colab.research.google.com/github/saitejakomaragiri/saitejakomaragiri/blob/main/project2_digital_marketing_trustpilot_sentiment_analysis.ipynb\" target=\"_parent\"><img src=\"https://colab.research.google.com/assets/colab-badge.svg\" alt=\"Open In Colab\"/></a>"
      ]
    },
    {
      "cell_type": "code",
      "metadata": {
        "id": "mEXnQ9aAxsvR"
      },
      "source": [
        "import pandas as pd\n",
        "import numpy as np\n",
        "import re\n",
        "from textblob import TextBlob\n",
        "import matplotlib.pyplot as plt\n",
        "plt.style.use('fivethirtyeight')"
      ],
      "execution_count": 1,
      "outputs": []
    },
    {
      "cell_type": "code",
      "metadata": {
        "colab": {
          "resources": {
            "http://localhost:8080/nbextensions/google.colab/files.js": {
              "data": "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",
              "ok": true,
              "headers": [
                [
                  "content-type",
                  "application/javascript"
                ]
              ],
              "status": 200,
              "status_text": ""
            }
          },
          "base_uri": "https://localhost:8080/",
          "height": 73
        },
        "id": "3DIH3q-QyYqt",
        "outputId": "939ab2b9-c1fa-492d-99bc-a2203e159153"
      },
      "source": [
        "from google.colab import files\n",
        "uploaded = files.upload()"
      ],
      "execution_count": 2,
      "outputs": [
        {
          "output_type": "display_data",
          "data": {
            "text/html": [
              "\n",
              "     <input type=\"file\" id=\"files-11f4f5a8-a874-4221-a9f0-fa0008189d41\" name=\"files[]\" multiple disabled\n",
              "        style=\"border:none\" />\n",
              "     <output id=\"result-11f4f5a8-a874-4221-a9f0-fa0008189d41\">\n",
              "      Upload widget is only available when the cell has been executed in the\n",
              "      current browser session. Please rerun this cell to enable.\n",
              "      </output>\n",
              "      <script src=\"/nbextensions/google.colab/files.js\"></script> "
            ],
            "text/plain": [
              "<IPython.core.display.HTML object>"
            ]
          },
          "metadata": {
            "tags": []
          }
        },
        {
          "output_type": "stream",
          "text": [
            "Saving simplilearn_trustpilot.csv to simplilearn_trustpilot.csv\n"
          ],
          "name": "stdout"
        }
      ]
    },
    {
      "cell_type": "code",
      "metadata": {
        "colab": {
          "base_uri": "https://localhost:8080/",
          "height": 576
        },
        "id": "m1BkldmeyhlB",
        "outputId": "8f999fc8-240b-4350-c3ef-de817c08a6d0"
      },
      "source": [
        "data = pd.read_csv('simplilearn_trustpilot.csv')\n",
        "data.head()"
      ],
      "execution_count": 3,
      "outputs": [
        {
          "output_type": "execute_result",
          "data": {
            "text/html": [
              "<div>\n",
              "<style scoped>\n",
              "    .dataframe tbody tr th:only-of-type {\n",
              "        vertical-align: middle;\n",
              "    }\n",
              "\n",
              "    .dataframe tbody tr th {\n",
              "        vertical-align: top;\n",
              "    }\n",
              "\n",
              "    .dataframe thead th {\n",
              "        text-align: right;\n",
              "    }\n",
              "</style>\n",
              "<table border=\"1\" class=\"dataframe\">\n",
              "  <thead>\n",
              "    <tr style=\"text-align: right;\">\n",
              "      <th></th>\n",
              "      <th>review</th>\n",
              "      <th>consumer-information href</th>\n",
              "      <th>consumer-avatar</th>\n",
              "      <th>consumer-information__name</th>\n",
              "      <th>consumer-information__review-count</th>\n",
              "      <th>star-rating src</th>\n",
              "      <th>review-content-header__dates</th>\n",
              "      <th>review-date--tooltip-target</th>\n",
              "      <th>link</th>\n",
              "      <th>link href</th>\n",
              "      <th>review-content__text</th>\n",
              "      <th>review-content__text 2</th>\n",
              "      <th>review-content__text 3</th>\n",
              "      <th>button href</th>\n",
              "    </tr>\n",
              "  </thead>\n",
              "  <tbody>\n",
              "    <tr>\n",
              "      <th>0</th>\n",
              "      <td>{\"socialShareUrl\":\"https://www.trustpilot.com/...</td>\n",
              "      <td>https://www.trustpilot.com/users/60d464bbd8a57...</td>\n",
              "      <td>VI</td>\n",
              "      <td>Vinayak</td>\n",
              "      <td>1 review</td>\n",
              "      <td>https://cdn.trustpilot.net/brand-assets/4.1.0/...</td>\n",
              "      <td>{\"publishedDate\":\"2021-06-24T10:57:12+00:00\",\"...</td>\n",
              "      <td>3 days ago</td>\n",
              "      <td>Attended PMP course</td>\n",
              "      <td>https://www.trustpilot.com/reviews/60d46508f9f...</td>\n",
              "      <td>Attended PMP course. Though it was too fast it...</td>\n",
              "      <td>Project</td>\n",
              "      <td>management</td>\n",
              "      <td>https://businessapp.b2b.trustpilot.com/reviews...</td>\n",
              "    </tr>\n",
              "    <tr>\n",
              "      <th>1</th>\n",
              "      <td>{\"socialShareUrl\":\"https://www.trustpilot.com/...</td>\n",
              "      <td>https://www.trustpilot.com/users/60d3fff2a4e06...</td>\n",
              "      <td>DS</td>\n",
              "      <td>Deepak S</td>\n",
              "      <td>1 review</td>\n",
              "      <td>https://cdn.trustpilot.net/brand-assets/4.1.0/...</td>\n",
              "      <td>{\"publishedDate\":\"2021-06-24T03:48:24+00:00\",\"...</td>\n",
              "      <td>3 days ago</td>\n",
              "      <td>Learnt lot of Good knowledge about…</td>\n",
              "      <td>https://www.trustpilot.com/reviews/60d40088f9f...</td>\n",
              "      <td>Learnt lot of Good knowledge about   from Mr. ...</td>\n",
              "      <td>Project</td>\n",
              "      <td>Management</td>\n",
              "      <td>https://businessapp.b2b.trustpilot.com/reviews...</td>\n",
              "    </tr>\n",
              "    <tr>\n",
              "      <th>2</th>\n",
              "      <td>{\"socialShareUrl\":\"https://www.trustpilot.com/...</td>\n",
              "      <td>https://www.trustpilot.com/users/583d4ce60000f...</td>\n",
              "      <td>KB</td>\n",
              "      <td>koustav biswas</td>\n",
              "      <td>3 reviews</td>\n",
              "      <td>https://cdn.trustpilot.net/brand-assets/4.1.0/...</td>\n",
              "      <td>{\"publishedDate\":\"2021-06-24T03:47:58+00:00\",\"...</td>\n",
              "      <td>3 days ago</td>\n",
              "      <td>PMP course: rating of 2 due to quality of trainer</td>\n",
              "      <td>https://www.trustpilot.com/reviews/60d4006ef9f...</td>\n",
              "      <td>I attended PMP course 9-24 Jun'21, trainer nam...</td>\n",
              "      <td>project</td>\n",
              "      <td>management</td>\n",
              "      <td>https://businessapp.b2b.trustpilot.com/reviews...</td>\n",
              "    </tr>\n",
              "    <tr>\n",
              "      <th>3</th>\n",
              "      <td>{\"socialShareUrl\":\"https://www.trustpilot.com/...</td>\n",
              "      <td>https://www.trustpilot.com/users/60d40018bdb1e...</td>\n",
              "      <td>ND</td>\n",
              "      <td>nischal djrr</td>\n",
              "      <td>1 review</td>\n",
              "      <td>https://cdn.trustpilot.net/brand-assets/4.1.0/...</td>\n",
              "      <td>{\"publishedDate\":\"2021-06-24T03:46:50+00:00\",\"...</td>\n",
              "      <td>Updated 3 days ago</td>\n",
              "      <td>Great Experience</td>\n",
              "      <td>https://www.trustpilot.com/reviews/60d4002af9f...</td>\n",
              "      <td>Great Experience . Learnt Many things, how   w...</td>\n",
              "      <td>Project</td>\n",
              "      <td>Management</td>\n",
              "      <td>https://businessapp.b2b.trustpilot.com/reviews...</td>\n",
              "    </tr>\n",
              "    <tr>\n",
              "      <th>4</th>\n",
              "      <td>{\"socialShareUrl\":\"https://www.trustpilot.com/...</td>\n",
              "      <td>https://www.trustpilot.com/users/60ab8c3dbeaf9...</td>\n",
              "      <td>JA</td>\n",
              "      <td>Jay</td>\n",
              "      <td>2 reviews</td>\n",
              "      <td>https://cdn.trustpilot.net/brand-assets/4.1.0/...</td>\n",
              "      <td>{\"publishedDate\":\"2021-06-12T17:36:26+00:00\",\"...</td>\n",
              "      <td>Jun 12, 2021</td>\n",
              "      <td>Fantastic class by Mr Sreidhar</td>\n",
              "      <td>https://www.trustpilot.com/reviews/60c4f09af9f...</td>\n",
              "      <td>The PG-PMP Course with Instructor Mr. Sreidhar...</td>\n",
              "      <td>Project</td>\n",
              "      <td>management</td>\n",
              "      <td>https://businessapp.b2b.trustpilot.com/reviews...</td>\n",
              "    </tr>\n",
              "  </tbody>\n",
              "</table>\n",
              "</div>"
            ],
            "text/plain": [
              "                                              review  ...                                        button href\n",
              "0  {\"socialShareUrl\":\"https://www.trustpilot.com/...  ...  https://businessapp.b2b.trustpilot.com/reviews...\n",
              "1  {\"socialShareUrl\":\"https://www.trustpilot.com/...  ...  https://businessapp.b2b.trustpilot.com/reviews...\n",
              "2  {\"socialShareUrl\":\"https://www.trustpilot.com/...  ...  https://businessapp.b2b.trustpilot.com/reviews...\n",
              "3  {\"socialShareUrl\":\"https://www.trustpilot.com/...  ...  https://businessapp.b2b.trustpilot.com/reviews...\n",
              "4  {\"socialShareUrl\":\"https://www.trustpilot.com/...  ...  https://businessapp.b2b.trustpilot.com/reviews...\n",
              "\n",
              "[5 rows x 14 columns]"
            ]
          },
          "metadata": {
            "tags": []
          },
          "execution_count": 3
        }
      ]
    },
    {
      "cell_type": "code",
      "metadata": {
        "colab": {
          "base_uri": "https://localhost:8080/"
        },
        "id": "ZkAlDnwwyzfw",
        "outputId": "45ae4cce-7229-47b1-c026-c126ec015103"
      },
      "source": [
        "data.shape\n"
      ],
      "execution_count": 4,
      "outputs": [
        {
          "output_type": "execute_result",
          "data": {
            "text/plain": [
              "(147, 14)"
            ]
          },
          "metadata": {
            "tags": []
          },
          "execution_count": 4
        }
      ]
    },
    {
      "cell_type": "code",
      "metadata": {
        "colab": {
          "base_uri": "https://localhost:8080/"
        },
        "id": "B87UkVATzWRG",
        "outputId": "0fe29e92-c972-425e-ce4e-b7d6c6bd2d7c"
      },
      "source": [
        "data.isnull().sum()\n",
        "\n",
        "# no missing values in the data "
      ],
      "execution_count": 5,
      "outputs": [
        {
          "output_type": "execute_result",
          "data": {
            "text/plain": [
              "review                                 0\n",
              "consumer-information href              0\n",
              "consumer-avatar                       43\n",
              "consumer-information__name             0\n",
              "consumer-information__review-count     0\n",
              "star-rating src                        0\n",
              "review-content-header__dates           0\n",
              "review-date--tooltip-target            0\n",
              "link                                   2\n",
              "link href                              0\n",
              "review-content__text                   0\n",
              "review-content__text 2                 4\n",
              "review-content__text 3                 4\n",
              "button href                            0\n",
              "dtype: int64"
            ]
          },
          "metadata": {
            "tags": []
          },
          "execution_count": 5
        }
      ]
    },
    {
      "cell_type": "code",
      "metadata": {
        "colab": {
          "base_uri": "https://localhost:8080/",
          "height": 203
        },
        "id": "2ejZ1hOvzcMd",
        "outputId": "c149e630-89c1-4ea6-c82f-ceb9425e31fe"
      },
      "source": [
        "#we were only interested in the comments and rating hence we only consider comments.\n",
        "\n",
        "# collecting only tweets from the given dataset\n",
        "\n",
        "new_data = pd.DataFrame()\n",
        "new_data['comment'] = data['review-content__text'].copy()\n",
        "\n",
        "new_data.head()"
      ],
      "execution_count": 6,
      "outputs": [
        {
          "output_type": "execute_result",
          "data": {
            "text/html": [
              "<div>\n",
              "<style scoped>\n",
              "    .dataframe tbody tr th:only-of-type {\n",
              "        vertical-align: middle;\n",
              "    }\n",
              "\n",
              "    .dataframe tbody tr th {\n",
              "        vertical-align: top;\n",
              "    }\n",
              "\n",
              "    .dataframe thead th {\n",
              "        text-align: right;\n",
              "    }\n",
              "</style>\n",
              "<table border=\"1\" class=\"dataframe\">\n",
              "  <thead>\n",
              "    <tr style=\"text-align: right;\">\n",
              "      <th></th>\n",
              "      <th>comment</th>\n",
              "    </tr>\n",
              "  </thead>\n",
              "  <tbody>\n",
              "    <tr>\n",
              "      <th>0</th>\n",
              "      <td>Attended PMP course. Though it was too fast it...</td>\n",
              "    </tr>\n",
              "    <tr>\n",
              "      <th>1</th>\n",
              "      <td>Learnt lot of Good knowledge about   from Mr. ...</td>\n",
              "    </tr>\n",
              "    <tr>\n",
              "      <th>2</th>\n",
              "      <td>I attended PMP course 9-24 Jun'21, trainer nam...</td>\n",
              "    </tr>\n",
              "    <tr>\n",
              "      <th>3</th>\n",
              "      <td>Great Experience . Learnt Many things, how   w...</td>\n",
              "    </tr>\n",
              "    <tr>\n",
              "      <th>4</th>\n",
              "      <td>The PG-PMP Course with Instructor Mr. Sreidhar...</td>\n",
              "    </tr>\n",
              "  </tbody>\n",
              "</table>\n",
              "</div>"
            ],
            "text/plain": [
              "                                             comment\n",
              "0  Attended PMP course. Though it was too fast it...\n",
              "1  Learnt lot of Good knowledge about   from Mr. ...\n",
              "2  I attended PMP course 9-24 Jun'21, trainer nam...\n",
              "3  Great Experience . Learnt Many things, how   w...\n",
              "4  The PG-PMP Course with Instructor Mr. Sreidhar..."
            ]
          },
          "metadata": {
            "tags": []
          },
          "execution_count": 6
        }
      ]
    },
    {
      "cell_type": "code",
      "metadata": {
        "colab": {
          "base_uri": "https://localhost:8080/",
          "height": 203
        },
        "id": "q9xxKXFf1UXA",
        "outputId": "55d2693e-8ee5-4896-e98f-e9d3827a3fcf"
      },
      "source": [
        "# function for cleaning the data\n",
        "import string\n",
        "\n",
        "def cleantext(text):\n",
        "  text = text.lower()\n",
        "  text = re.sub('\\[.*?\\]', '', text)\n",
        "  text = re.sub('[%s]' % re.escape(string.punctuation), '', text)\n",
        "  text = re.sub('\\W*\\d\\w*', '', text)\n",
        "  text = re.sub('[''\"\"...]', '', text)\n",
        "  text = re.sub('\\n', '', text)\n",
        "\n",
        "  return text\n",
        "\n",
        "new_data['comment'] = new_data['comment'].apply(cleantext)\n",
        "\n",
        "#show cleaned data \n",
        "new_data.head() \n",
        "\n"
      ],
      "execution_count": 8,
      "outputs": [
        {
          "output_type": "execute_result",
          "data": {
            "text/html": [
              "<div>\n",
              "<style scoped>\n",
              "    .dataframe tbody tr th:only-of-type {\n",
              "        vertical-align: middle;\n",
              "    }\n",
              "\n",
              "    .dataframe tbody tr th {\n",
              "        vertical-align: top;\n",
              "    }\n",
              "\n",
              "    .dataframe thead th {\n",
              "        text-align: right;\n",
              "    }\n",
              "</style>\n",
              "<table border=\"1\" class=\"dataframe\">\n",
              "  <thead>\n",
              "    <tr style=\"text-align: right;\">\n",
              "      <th></th>\n",
              "      <th>comment</th>\n",
              "    </tr>\n",
              "  </thead>\n",
              "  <tbody>\n",
              "    <tr>\n",
              "      <th>0</th>\n",
              "      <td>attended pmp course though it was too fast it ...</td>\n",
              "    </tr>\n",
              "    <tr>\n",
              "      <th>1</th>\n",
              "      <td>learnt lot of good knowledge about   from mr v...</td>\n",
              "    </tr>\n",
              "    <tr>\n",
              "      <th>2</th>\n",
              "      <td>i attended pmp course jun trainer name vishal ...</td>\n",
              "    </tr>\n",
              "    <tr>\n",
              "      <th>3</th>\n",
              "      <td>great experience  learnt many things how   wor...</td>\n",
              "    </tr>\n",
              "    <tr>\n",
              "      <th>4</th>\n",
              "      <td>the pgpmp course with instructor mr sreidhar w...</td>\n",
              "    </tr>\n",
              "  </tbody>\n",
              "</table>\n",
              "</div>"
            ],
            "text/plain": [
              "                                             comment\n",
              "0  attended pmp course though it was too fast it ...\n",
              "1  learnt lot of good knowledge about   from mr v...\n",
              "2  i attended pmp course jun trainer name vishal ...\n",
              "3  great experience  learnt many things how   wor...\n",
              "4  the pgpmp course with instructor mr sreidhar w..."
            ]
          },
          "metadata": {
            "tags": []
          },
          "execution_count": 8
        }
      ]
    },
    {
      "cell_type": "code",
      "metadata": {
        "colab": {
          "base_uri": "https://localhost:8080/",
          "height": 357
        },
        "id": "bLzKHOXS1c9U",
        "outputId": "25bf2f3c-94c2-427c-cb4d-a411bf754ba4"
      },
      "source": [
        "# creating  a function for subjectivity\n",
        "def createsubjectivity(text):\n",
        "  return TextBlob(text).sentiment.subjectivity\n",
        "\n",
        "# creating a function for polarity\n",
        "def createpolarity(text):\n",
        "  return TextBlob(text).sentiment.polarity\n",
        "\n",
        "# creating subjectivity and polarity columns\n",
        "\n",
        "new_data['subjectivity'] = new_data['comment'].apply(createsubjectivity)   \n",
        "new_data['polarity'] = new_data['comment'].apply(createpolarity) \n",
        "\n",
        "new_data.head(10)"
      ],
      "execution_count": 9,
      "outputs": [
        {
          "output_type": "execute_result",
          "data": {
            "text/html": [
              "<div>\n",
              "<style scoped>\n",
              "    .dataframe tbody tr th:only-of-type {\n",
              "        vertical-align: middle;\n",
              "    }\n",
              "\n",
              "    .dataframe tbody tr th {\n",
              "        vertical-align: top;\n",
              "    }\n",
              "\n",
              "    .dataframe thead th {\n",
              "        text-align: right;\n",
              "    }\n",
              "</style>\n",
              "<table border=\"1\" class=\"dataframe\">\n",
              "  <thead>\n",
              "    <tr style=\"text-align: right;\">\n",
              "      <th></th>\n",
              "      <th>comment</th>\n",
              "      <th>subjectivity</th>\n",
              "      <th>polarity</th>\n",
              "    </tr>\n",
              "  </thead>\n",
              "  <tbody>\n",
              "    <tr>\n",
              "      <th>0</th>\n",
              "      <td>attended pmp course though it was too fast it ...</td>\n",
              "      <td>0.550000</td>\n",
              "      <td>0.116667</td>\n",
              "    </tr>\n",
              "    <tr>\n",
              "      <th>1</th>\n",
              "      <td>learnt lot of good knowledge about   from mr v...</td>\n",
              "      <td>0.408333</td>\n",
              "      <td>0.233333</td>\n",
              "    </tr>\n",
              "    <tr>\n",
              "      <th>2</th>\n",
              "      <td>i attended pmp course jun trainer name vishal ...</td>\n",
              "      <td>0.572222</td>\n",
              "      <td>0.311111</td>\n",
              "    </tr>\n",
              "    <tr>\n",
              "      <th>3</th>\n",
              "      <td>great experience  learnt many things how   wor...</td>\n",
              "      <td>0.670000</td>\n",
              "      <td>0.720000</td>\n",
              "    </tr>\n",
              "    <tr>\n",
              "      <th>4</th>\n",
              "      <td>the pgpmp course with instructor mr sreidhar w...</td>\n",
              "      <td>0.900000</td>\n",
              "      <td>0.400000</td>\n",
              "    </tr>\n",
              "    <tr>\n",
              "      <th>5</th>\n",
              "      <td>i attended instructor lead simplylearn pmp tra...</td>\n",
              "      <td>0.708333</td>\n",
              "      <td>0.333333</td>\n",
              "    </tr>\n",
              "    <tr>\n",
              "      <th>6</th>\n",
              "      <td>i came across the simplilearn and umass amhers...</td>\n",
              "      <td>0.751852</td>\n",
              "      <td>0.422222</td>\n",
              "    </tr>\n",
              "    <tr>\n",
              "      <th>7</th>\n",
              "      <td>the   certificate course by simplilearn taught...</td>\n",
              "      <td>0.383333</td>\n",
              "      <td>0.333333</td>\n",
              "    </tr>\n",
              "    <tr>\n",
              "      <th>8</th>\n",
              "      <td>trainer has great knowledge about   she has br...</td>\n",
              "      <td>0.471501</td>\n",
              "      <td>0.245455</td>\n",
              "    </tr>\n",
              "    <tr>\n",
              "      <th>9</th>\n",
              "      <td>excellent coaching on   pmp by ritu gupta trai...</td>\n",
              "      <td>0.576667</td>\n",
              "      <td>0.420000</td>\n",
              "    </tr>\n",
              "  </tbody>\n",
              "</table>\n",
              "</div>"
            ],
            "text/plain": [
              "                                             comment  subjectivity  polarity\n",
              "0  attended pmp course though it was too fast it ...      0.550000  0.116667\n",
              "1  learnt lot of good knowledge about   from mr v...      0.408333  0.233333\n",
              "2  i attended pmp course jun trainer name vishal ...      0.572222  0.311111\n",
              "3  great experience  learnt many things how   wor...      0.670000  0.720000\n",
              "4  the pgpmp course with instructor mr sreidhar w...      0.900000  0.400000\n",
              "5  i attended instructor lead simplylearn pmp tra...      0.708333  0.333333\n",
              "6  i came across the simplilearn and umass amhers...      0.751852  0.422222\n",
              "7  the   certificate course by simplilearn taught...      0.383333  0.333333\n",
              "8  trainer has great knowledge about   she has br...      0.471501  0.245455\n",
              "9  excellent coaching on   pmp by ritu gupta trai...      0.576667  0.420000"
            ]
          },
          "metadata": {
            "tags": []
          },
          "execution_count": 9
        }
      ]
    },
    {
      "cell_type": "code",
      "metadata": {
        "colab": {
          "base_uri": "https://localhost:8080/",
          "height": 357
        },
        "id": "HDO3X4xV10O0",
        "outputId": "c9109689-1532-4059-8c36-fe5fbe40c9e9"
      },
      "source": [
        "# creating a function to check +ve , -ve & neutral comments\n",
        "\n",
        "def createanalysis(score):\n",
        "  if (score < 0):\n",
        "    return 'Negative'\n",
        "  elif (score == 0):\n",
        "      return 'Neutral'\n",
        "  else:\n",
        "      return 'Positive'\n",
        "\n",
        "new_data['analysis'] = new_data['polarity'].apply(createanalysis)\n",
        "\n",
        "# showing the dataset\n",
        "new_data.head(10)"
      ],
      "execution_count": 10,
      "outputs": [
        {
          "output_type": "execute_result",
          "data": {
            "text/html": [
              "<div>\n",
              "<style scoped>\n",
              "    .dataframe tbody tr th:only-of-type {\n",
              "        vertical-align: middle;\n",
              "    }\n",
              "\n",
              "    .dataframe tbody tr th {\n",
              "        vertical-align: top;\n",
              "    }\n",
              "\n",
              "    .dataframe thead th {\n",
              "        text-align: right;\n",
              "    }\n",
              "</style>\n",
              "<table border=\"1\" class=\"dataframe\">\n",
              "  <thead>\n",
              "    <tr style=\"text-align: right;\">\n",
              "      <th></th>\n",
              "      <th>comment</th>\n",
              "      <th>subjectivity</th>\n",
              "      <th>polarity</th>\n",
              "      <th>analysis</th>\n",
              "    </tr>\n",
              "  </thead>\n",
              "  <tbody>\n",
              "    <tr>\n",
              "      <th>0</th>\n",
              "      <td>attended pmp course though it was too fast it ...</td>\n",
              "      <td>0.550000</td>\n",
              "      <td>0.116667</td>\n",
              "      <td>Positive</td>\n",
              "    </tr>\n",
              "    <tr>\n",
              "      <th>1</th>\n",
              "      <td>learnt lot of good knowledge about   from mr v...</td>\n",
              "      <td>0.408333</td>\n",
              "      <td>0.233333</td>\n",
              "      <td>Positive</td>\n",
              "    </tr>\n",
              "    <tr>\n",
              "      <th>2</th>\n",
              "      <td>i attended pmp course jun trainer name vishal ...</td>\n",
              "      <td>0.572222</td>\n",
              "      <td>0.311111</td>\n",
              "      <td>Positive</td>\n",
              "    </tr>\n",
              "    <tr>\n",
              "      <th>3</th>\n",
              "      <td>great experience  learnt many things how   wor...</td>\n",
              "      <td>0.670000</td>\n",
              "      <td>0.720000</td>\n",
              "      <td>Positive</td>\n",
              "    </tr>\n",
              "    <tr>\n",
              "      <th>4</th>\n",
              "      <td>the pgpmp course with instructor mr sreidhar w...</td>\n",
              "      <td>0.900000</td>\n",
              "      <td>0.400000</td>\n",
              "      <td>Positive</td>\n",
              "    </tr>\n",
              "    <tr>\n",
              "      <th>5</th>\n",
              "      <td>i attended instructor lead simplylearn pmp tra...</td>\n",
              "      <td>0.708333</td>\n",
              "      <td>0.333333</td>\n",
              "      <td>Positive</td>\n",
              "    </tr>\n",
              "    <tr>\n",
              "      <th>6</th>\n",
              "      <td>i came across the simplilearn and umass amhers...</td>\n",
              "      <td>0.751852</td>\n",
              "      <td>0.422222</td>\n",
              "      <td>Positive</td>\n",
              "    </tr>\n",
              "    <tr>\n",
              "      <th>7</th>\n",
              "      <td>the   certificate course by simplilearn taught...</td>\n",
              "      <td>0.383333</td>\n",
              "      <td>0.333333</td>\n",
              "      <td>Positive</td>\n",
              "    </tr>\n",
              "    <tr>\n",
              "      <th>8</th>\n",
              "      <td>trainer has great knowledge about   she has br...</td>\n",
              "      <td>0.471501</td>\n",
              "      <td>0.245455</td>\n",
              "      <td>Positive</td>\n",
              "    </tr>\n",
              "    <tr>\n",
              "      <th>9</th>\n",
              "      <td>excellent coaching on   pmp by ritu gupta trai...</td>\n",
              "      <td>0.576667</td>\n",
              "      <td>0.420000</td>\n",
              "      <td>Positive</td>\n",
              "    </tr>\n",
              "  </tbody>\n",
              "</table>\n",
              "</div>"
            ],
            "text/plain": [
              "                                             comment  ...  analysis\n",
              "0  attended pmp course though it was too fast it ...  ...  Positive\n",
              "1  learnt lot of good knowledge about   from mr v...  ...  Positive\n",
              "2  i attended pmp course jun trainer name vishal ...  ...  Positive\n",
              "3  great experience  learnt many things how   wor...  ...  Positive\n",
              "4  the pgpmp course with instructor mr sreidhar w...  ...  Positive\n",
              "5  i attended instructor lead simplylearn pmp tra...  ...  Positive\n",
              "6  i came across the simplilearn and umass amhers...  ...  Positive\n",
              "7  the   certificate course by simplilearn taught...  ...  Positive\n",
              "8  trainer has great knowledge about   she has br...  ...  Positive\n",
              "9  excellent coaching on   pmp by ritu gupta trai...  ...  Positive\n",
              "\n",
              "[10 rows x 4 columns]"
            ]
          },
          "metadata": {
            "tags": []
          },
          "execution_count": 10
        }
      ]
    },
    {
      "cell_type": "code",
      "metadata": {
        "colab": {
          "base_uri": "https://localhost:8080/",
          "height": 405
        },
        "id": "jPjQKmOs17ax",
        "outputId": "dd0c244a-0c9b-4742-8df4-c48567029659"
      },
      "source": [
        "# plotting a scatter plot \n",
        "\n",
        "plt.figure(figsize=(6,6))\n",
        "for i in range(0, data.shape[0]):\n",
        "  plt.scatter(new_data['polarity'][i], new_data['subjectivity'][i], color = 'Red')\n",
        "\n",
        "plt.xlabel('polarity')\n",
        "plt.ylabel('subjectivity')\n",
        "plt.title('sentiment analysis')\n",
        "plt.show()\n"
      ],
      "execution_count": 11,
      "outputs": [
        {
          "output_type": "display_data",
          "data": {
            "image/png": "[encoded data removed]",
            "text/plain": [
              "<Figure size 432x432 with 1 Axes>"
            ]
          },
          "metadata": {
            "tags": [],
            "needs_background": "light"
          }
        }
      ]
    },
    {
      "cell_type": "code",
      "metadata": {
        "colab": {
          "base_uri": "https://localhost:8080/"
        },
        "id": "XXFz-sIb2GnQ",
        "outputId": "02e62b9a-e9fd-4c2d-a734-26996d5ffb97"
      },
      "source": [
        "#number of positive , negative & neutral comments comments\n",
        "poscomments = 0\n",
        "neutralcomments = 0\n",
        "negcomments = 0\n",
        "\n",
        "for i in range (0, data.shape[0]):\n",
        "  if (new_data['analysis'][i] == 'Positive'):\n",
        "    poscomments = poscomments+1\n",
        "  elif (new_data['analysis'][i] == 'Neutral'):\n",
        "    neutralcomments = neutralcomments+1\n",
        "  else :\n",
        "      negcomments = negcomments+1\n",
        "\n",
        "print('number of positive tweets :',poscomments)\n",
        "print('number of neutral tweets :',neutralcomments)\n",
        "print('number of negative tweets :',negcomments)   "
      ],
      "execution_count": 12,
      "outputs": [
        {
          "output_type": "stream",
          "text": [
            "number of positive tweets : 145\n",
            "number of neutral tweets : 1\n",
            "number of negative tweets : 1\n"
          ],
          "name": "stdout"
        }
      ]
    },
    {
      "cell_type": "code",
      "metadata": {
        "colab": {
          "base_uri": "https://localhost:8080/"
        },
        "id": "iU3zkREl2710",
        "outputId": "407d480a-5e36-4957-ef73-49cccb88fd1e"
      },
      "source": [
        "#number of positive , negative & neutral comments comments\n",
        "\n",
        "print('percentage of positive comments :', round((poscomments/new_data.shape[0])*100, 1),'%')\n",
        "\n",
        "print('percentage of neutral comments :', round((neutralcomments/new_data.shape[0])*100, 1),'%')\n",
        "\n",
        "print('percentage of negative comments :', round((negcomments/new_data.shape[0])*100, 1),'%')"
      ],
      "execution_count": 13,
      "outputs": [
        {
          "output_type": "stream",
          "text": [
            "percentage of positive comments : 98.6 %\n",
            "percentage of neutral comments : 0.7 %\n",
            "percentage of negative comments : 0.7 %\n"
          ],
          "name": "stdout"
        }
      ]
    },
    {
      "cell_type": "code",
      "metadata": {
        "id": "DLaoZh1Z3Ham"
      },
      "source": [
        ""
      ],
      "execution_count": null,
      "outputs": []
    }
  ]
}